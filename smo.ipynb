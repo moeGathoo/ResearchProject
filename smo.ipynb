{
 "cells": [
  {
   "cell_type": "code",
   "execution_count": 5,
   "metadata": {},
   "outputs": [],
   "source": [
    "import numpy as np\n",
    "import pandas as pd\n",
    "import seaborn as sns\n",
    "from matplotlib import pyplot as plt\n",
    "from sklearn.model_selection import train_test_split\n",
    "\n",
    "import warnings\n",
    "warnings.filterwarnings(\"ignore\")\n",
    "\n",
    "tol = 0.01\n",
    "eps = 0.01"
   ]
  },
  {
   "cell_type": "markdown",
   "metadata": {},
   "source": [
    "Pre-processing, Data Cleaning, Feature Engineering"
   ]
  },
  {
   "cell_type": "code",
   "execution_count": null,
   "metadata": {},
   "outputs": [],
   "source": [
    "dataDf = pd.read_excel(\"data.xlsx\", dtype=object)\n",
    "columnNames = dataDf.columns\n",
    "\n",
    "dataDf.dropna(inplace=True)\n",
    "dataDf['GENDER'] = dataDf['GENDER'].replace([\"Male\", \"Female\"], [1,2])\n",
    "for i in range(4, 43-9):\n",
    "    dataDf = dataDf.astype({dataDf.columns[i]: str})\n",
    "\n",
    "for i in range(len(dataDf)):\n",
    "    row = dataDf.iloc[i]\n",
    "    for c in range(4, 18):\n",
    "        row[columnNames[c]] = row[columnNames[c]].strip(\".\")\n",
    "        row[columnNames[c]] = row[columnNames[c]].split('.')\n",
    "    dataDf.iloc[i] = row\n",
    "for i in range(len(dataDf)):\n",
    "    for c in range(4, 18):\n",
    "        dataDf = dataDf.explode(columnNames[c])\n",
    "\n",
    "dropList = ['Questioinnaire number ', 'AGE', 'HOME LANGUAGE']\n",
    "dataDf = dataDf.drop(columns=dropList)\n",
    "\n",
    "dataDf['PASSED'] = 0\n",
    "dataDf.loc[dataDf['FNL ILS'] >= 50, 'PASSED'] = 1\n",
    "\n",
    "columns = dataDf.columns"
   ]
  },
  {
   "cell_type": "code",
   "execution_count": null,
   "metadata": {},
   "outputs": [],
   "source": [
    "miscDf = dataDf[columns[:7]]\n",
    "miscDf['PASSED'] = dataDf['PASSED']\n",
    "miscDf = miscDf.drop_duplicates()\n",
    "#miscDf"
   ]
  },
  {
   "cell_type": "code",
   "execution_count": null,
   "metadata": {},
   "outputs": [],
   "source": [
    "dataDf = pd.read_excel(\"data.xlsx\", dtype=object)\n",
    "dataDf['PASSED'] = 0\n",
    "dataDf.loc[dataDf['FNL ILS'] >= 50, 'PASSED'] = 1; columns = dataDf.columns"
   ]
  },
  {
   "cell_type": "code",
   "execution_count": null,
   "metadata": {},
   "outputs": [],
   "source": [
    "schoolExpDf = dataDf[columns[13:18]]\n",
    "schoolExpDf['PASSED'] = dataDf['PASSED']\n",
    "#schoolExpDf = schoolExpDf.dropna()\n",
    "schoolExpCols = schoolExpDf.columns\n",
    "for i in range(len(schoolExpDf)):\n",
    "    for c in schoolExpCols:\n",
    "        schoolExpDf[c].iloc[i] = str(schoolExpDf[c].iloc[i]).strip(\".\")\n",
    "        schoolExpDf[c].iloc[i] = str(schoolExpDf[c].iloc[i]).split('.')\n",
    "for i in range(len(schoolExpDf)):\n",
    "    for c in schoolExpCols:\n",
    "        schoolExpDf = schoolExpDf.explode(c)\n",
    "#schoolExpDf"
   ]
  },
  {
   "cell_type": "code",
   "execution_count": null,
   "metadata": {},
   "outputs": [],
   "source": [
    "familyDf = dataDf[columns[30:34]]\n",
    "familyDf[columns[10]] = dataDf[columns[10]]\n",
    "familyDf[columns[11]] = dataDf[columns[11]]\n",
    "familyDf['PASSED'] = dataDf['PASSED']\n",
    "#familyDf = familyDf.dropna()\n",
    "familyCols = familyDf.columns\n",
    "for i in range(len(familyDf)):\n",
    "    for c in familyCols:\n",
    "        familyDf[c].iloc[i] = str(familyDf[c].iloc[i]).strip(\".\")\n",
    "        familyDf[c].iloc[i] = str(familyDf[c].iloc[i]).split('.')\n",
    "for i in range(len(familyDf)):\n",
    "    for c in familyCols:\n",
    "        familyDf = familyDf.explode(c)\n",
    "#familyDf"
   ]
  },
  {
   "cell_type": "code",
   "execution_count": null,
   "metadata": {},
   "outputs": [],
   "source": [
    "peerDf = dataDf[columns[22:26]]\n",
    "peerDf['PASSED'] = dataDf['PASSED']\n",
    "#peerDf = peerDf.dropna()\n",
    "peerCols = peerDf.columns\n",
    "for i in range(len(peerDf)):\n",
    "    for c in peerCols:\n",
    "        peerDf[c].iloc[i] = str(peerDf[c].iloc[i]).strip(\".\")\n",
    "        peerDf[c].iloc[i] = str(peerDf[c].iloc[i]).split('.')\n",
    "for i in range(len(peerDf)):\n",
    "    for c in peerCols:\n",
    "        peerDf = peerDf.explode(c)\n",
    "#peerDf"
   ]
  },
  {
   "cell_type": "code",
   "execution_count": null,
   "metadata": {},
   "outputs": [],
   "source": [
    "schoolBackDf = dataDf[columns[26:30]]\n",
    "schoolBackDf['PASSED'] = dataDf['PASSED']\n",
    "#schoolBackDf = schoolBackDf.dropna()\n",
    "schoolBackCols = schoolBackDf.columns\n",
    "for i in range(len(schoolBackDf)):\n",
    "    for c in schoolBackCols:\n",
    "        schoolBackDf[c].iloc[i] = str(schoolBackDf[c].iloc[i]).strip(\".\")\n",
    "        schoolBackDf[c].iloc[i] = str(schoolBackDf[c].iloc[i]).split('.')\n",
    "for i in range(len(schoolBackDf)):\n",
    "    for c in schoolBackCols:\n",
    "        schoolBackDf = schoolBackDf.explode(c)\n",
    "#schoolBackDf"
   ]
  },
  {
   "cell_type": "code",
   "execution_count": null,
   "metadata": {},
   "outputs": [],
   "source": [
    "selfDf = dataDf[columns[30:34]]\n",
    "selfDf['PASSED'] = dataDf['PASSED']\n",
    "#selfDf = selfDf.dropna()\n",
    "selfCols = selfDf.columns\n",
    "for i in range(len(selfDf)):\n",
    "    for c in selfCols:\n",
    "        selfDf[c].iloc[i] = str(selfDf[c].iloc[i]).strip(\".\")\n",
    "        selfDf[c].iloc[i] = str(selfDf[c].iloc[i]).split('.')\n",
    "for i in range(len(selfDf)):\n",
    "    for c in selfCols:\n",
    "        selfDf = selfDf.explode(c)\n",
    "#selfDf"
   ]
  },
  {
   "cell_type": "code",
   "execution_count": null,
   "metadata": {},
   "outputs": [],
   "source": [
    "def gaussianKernel(x, y, sigma=1):\n",
    "    if np.ndim(x) == 1 and np.ndim(y) == 1:\n",
    "        result = np.exp(- (np.linalg.norm(x - y, 2)) ** 2 / (2 * sigma ** 2))\n",
    "    elif (np.ndim(x) > 1 and np.ndim(y) == 1) or (np.ndim(x) == 1 and np.ndim(y) > 1):\n",
    "        result = np.exp(- (np.linalg.norm(x - y, 2, axis=1) ** 2) / (2 * sigma ** 2))\n",
    "    elif np.ndim(x) > 1 and np.ndim(y) > 1:\n",
    "        result = np.exp(- (np.linalg.norm(x[:, np.newaxis] - y[np.newaxis, :], 2, axis=2) ** 2) / (2 * sigma ** 2))\n",
    "    return result"
   ]
  },
  {
   "cell_type": "code",
   "execution_count": null,
   "metadata": {},
   "outputs": [],
   "source": [
    "def linearKernel(X1,X2):\n",
    "    return np.inner(X1,X2)"
   ]
  },
  {
   "cell_type": "code",
   "execution_count": null,
   "metadata": {},
   "outputs": [],
   "source": [
    "def objectiveFunction(alphas, y, kernel, X):\n",
    "    return np.sum(alphas) - 0.5 * np.sum((y[:, None] * y[None, :]) * kernel(X, X) * (alphas[:, None] * alphas[None, :]))"
   ]
  },
  {
   "cell_type": "code",
   "execution_count": null,
   "metadata": {},
   "outputs": [],
   "source": [
    "def decisionFunction(alphas, y, kernel, X_train, x_test, b):\n",
    "    result = (alphas * y) @ kernel(X_train, x_test) - b\n",
    "    return result"
   ]
  },
  {
   "cell_type": "code",
   "execution_count": null,
   "metadata": {},
   "outputs": [],
   "source": [
    "class SMOModel:\n",
    "    def __init__(self,X,Y,C,b,kernel):\n",
    "        self.m = Y.shape[0]\n",
    "        self.y = Y\n",
    "        self.X = X\n",
    "        self.C = C\n",
    "        self.b = b\n",
    "        self.kernel = kernel\n",
    "        self.alphas = np.zeros(self.m)\n",
    "        self.errors = decisionFunction(self.alphas, self.y, self.kernel,self.X, self.X, self.b) - self.y"
   ]
  },
  {
   "cell_type": "code",
   "execution_count": null,
   "metadata": {},
   "outputs": [],
   "source": [
    "def takeStep(i1, i2, model):\n",
    "    \n",
    "    if i1 == i2:\n",
    "        return 0, model\n",
    "    \n",
    "    alph1 = model.alphas[i1]\n",
    "    alph2 = model.alphas[i2]\n",
    "    y1 = model.y[i1]\n",
    "    y2 = model.y[i2]\n",
    "    E1 = model.errors[i1]\n",
    "    E2 = model.errors[i2]\n",
    "    \n",
    "    s = y1*y2\n",
    "    if y1 == y2:\n",
    "        L = max(0 , alph1 + alph2 - model.C)\n",
    "        H = min(model.C, alph1 + alph2)\n",
    "    else:\n",
    "        L = max(0, alph2 - alph1)\n",
    "        H = min(model.C, model.C + alph2 - alph1)\n",
    "    if L == H:\n",
    "        return 0, model\n",
    "    \n",
    "    k11 = model.kernel(model.X[i1],model.X[i1])\n",
    "    k12 = model.kernel(model.X[i1],model.X[i2])\n",
    "    k22 = model.kernel(model.X[i2],model.X[i2])\n",
    "    eta = k11 + k22 - 2*k12\n",
    "    \n",
    "    if eta > 0:\n",
    "        a2 = alph2 + (y2*(E1 -E2))/eta\n",
    "        if a2 < L:\n",
    "            a2 = L\n",
    "        elif a2 > H:\n",
    "            a2 = H\n",
    "    else:\n",
    "        alphas_adj = model.alphas.copy()\n",
    "        alphas_adj[i2] = L\n",
    "        Lobj = objectiveFunction(alphas_adj, model.y, model.kernel, model.X)\n",
    "        alphas_adj[i2] = H\n",
    "        Hobj = objectiveFunction(alphas_adj, model.y, model.kernel, model.X)\n",
    "        \n",
    "        if Lobj < (Hobj - eps):\n",
    "            a2 = L\n",
    "        elif Lobj > (Hobj + eps):\n",
    "            a2 = H\n",
    "        else:\n",
    "            a2 = alph2\n",
    "    \n",
    "    if a2 < 1e-8:\n",
    "        a2 = 0.0\n",
    "    elif a2 > (model.C - 1e-8):\n",
    "        a2 = model.C\n",
    "    if abs(a2 - alph2) < eps*(a2+alph2+eps):\n",
    "        return 0, model\n",
    "    \n",
    "    a1 = alph1 + s*(alph2 - a2)\n",
    "    b1 = E1 + y1 * (a1 - alph1) * k11 + y2 * (a2 - alph2) * k12 + model.b\n",
    "    b2 = E2 + y1 * (a1 - alph1) * k12 + y2 * (a2 - alph2) * k22 + model.b\n",
    "     \n",
    "    if 0 < a1 and a1 < model.C:\n",
    "        b = b1\n",
    "    elif 0 < a2 and a2 < model.C:\n",
    "        b = b2\n",
    "    else:\n",
    "        b = (b1 + b2) * 0.5\n",
    "    \n",
    "    model.alphas[i1] = a1\n",
    "    model.alphas[i2] = a2\n",
    "\n",
    "    for index, alph in zip([i1, i2], [a1, a2]):\n",
    "        if 0.0 < alph and alph < model.C:\n",
    "            model.errors[index] = 0.0\n",
    "     \n",
    "    NonOpt = list(filter(lambda n: n != i1 and n != i2, list(range(model.m))))\n",
    "    model.errors[NonOpt] = model.errors[NonOpt] + y1*(a1 - alph1)*model.kernel(model.X[i1], model.X[NonOpt]) +y2*(a2 - alph2)*model.kernel(model.X[i2], model.X[NonOpt]) + model.b - b\n",
    "    model.b = b\n",
    "    \n",
    "    return 1, model"
   ]
  },
  {
   "cell_type": "code",
   "execution_count": null,
   "metadata": {},
   "outputs": [],
   "source": [
    "def examineExample(i2, model):\n",
    "    \n",
    "    y2 = model.y[i2]\n",
    "    alph2 = model.alphas[i2]\n",
    "    E2 = model.errors[i2]\n",
    "    r2 = E2*y2\n",
    "    \n",
    "    if ((r2 < -tol and alph2 < model.C) or (r2 > tol and alph2 > 0)):\n",
    "        if len(model.alphas[(model.alphas != 0) & (model.alphas != model.C)]) > 1:\n",
    "            if model.errors[i2] > 0:\n",
    "                i1 = np.argmin(model.errors)\n",
    "            elif model.errors[i2] <= 0:\n",
    "                i1 = np.argmax(model.errors)  \n",
    "            step, model = takeStep(i1, i2, model)\n",
    "            if step:\n",
    "                return 1, model\n",
    "         \n",
    "        for i1 in np.roll(np.where((model.alphas != 0) & (model.alphas != model.C))[0], np.random.choice(np.arange(model.m))):\n",
    "            step, model = takeStep(i1, i2, model)\n",
    "            if step:\n",
    "                return 1, model\n",
    "        \n",
    "        for i1 in np.roll(np.arange(model.m), np.random.choice(np.arange(model.m))):\n",
    "            step, model = takeStep(i1, i2, model)\n",
    "            if step:\n",
    "                return 1, model\n",
    "            \n",
    "    return 0, model"
   ]
  },
  {
   "cell_type": "code",
   "execution_count": null,
   "metadata": {},
   "outputs": [],
   "source": [
    "def train(model):\n",
    "    numChanged = 0\n",
    "    examineAll = 1\n",
    "\n",
    "    while numChanged > 0 or examineAll:\n",
    "        numChanged = 0\n",
    "        if examineAll:\n",
    "            for i in range(model.m):\n",
    "                res , model = examineExample(i, model)\n",
    "                numChanged += res\n",
    "                \n",
    "        else:\n",
    "            for i in np.where((model.alphas != 0) & (model.alphas != model.C))[0]:\n",
    "                res , model = examineExample(i, model)\n",
    "                numChanged += res\n",
    "                \n",
    "        if examineAll == 1:\n",
    "            examineAll = 0\n",
    "        elif numChanged == 0:\n",
    "            examineAll = 1\n",
    "    return model"
   ]
  },
  {
   "cell_type": "code",
   "execution_count": null,
   "metadata": {},
   "outputs": [],
   "source": [
    "def predict(model,X_test):\n",
    "    result = np.zeros(X_test.shape[0])\n",
    "    for i,test in enumerate(X_test):\n",
    "        result[i] = decisionFunction(model.alphas, model.y, model.kernel, model.X, test, model.b)\n",
    "        if result[i] > 0:\n",
    "            result[i] = 1\n",
    "        else:\n",
    "            result[i] = -1\n",
    "    return result\n",
    "\n",
    "def Classifier(model0, model1, model2, X_test):\n",
    "    result = np.zeros(X_test.shape[0])\n",
    "    for i,test in enumerate(X_test):\n",
    "        result[i] = np.argmax(np.array([\n",
    "            predict(model0,np.array([test]))[0],\n",
    "            predict(model1,np.array([test]))[0]+0.0001,\n",
    "            predict(model2,np.array([test]))[0]+0.0001\n",
    "        ]))\n",
    "    return result"
   ]
  },
  {
   "cell_type": "code",
   "execution_count": null,
   "metadata": {},
   "outputs": [],
   "source": [
    "xTrain, xTest, yTrain, yTest = train_test_split(dataDf.iloc[:,0:-4], dataDf['PASSED'], test_size=0.4, random_state=42)\n",
    "xVal, xTest, yVal, yTest = train_test_split(xTest, yTest, test_size=0.5, random_state=42)\n",
    "xTrain, xVal, xTest, yTrain, yTest, yVal = xTrain.to_numpy(), xVal.to_numpy(), xTest.to_numpy(), yTrain.to_numpy(), yTest.to_numpy(), yVal.to_numpy() \n",
    "\n",
    "model = SMOModel(xTrain, yTrain, 1000.0, 0, gaussianKernel)\n",
    "np.random.seed(0)\n",
    "model = train(model)\n",
    "\n",
    "result = np.zeros(xTest.shape[0])\n",
    "for i,test in enumerate(xTest):\n",
    "    result[i] = np.argmax(np.array([predict(model,np.array([test]))[0]]))"
   ]
  }
 ],
 "metadata": {
  "kernelspec": {
   "display_name": "Python 3.10.7 64-bit (microsoft store)",
   "language": "python",
   "name": "python3"
  },
  "language_info": {
   "codemirror_mode": {
    "name": "ipython",
    "version": 3
   },
   "file_extension": ".py",
   "mimetype": "text/x-python",
   "name": "python",
   "nbconvert_exporter": "python",
   "pygments_lexer": "ipython3",
   "version": "3.10.7"
  },
  "orig_nbformat": 4,
  "vscode": {
   "interpreter": {
    "hash": "f523ce2d606dc9235b909666820dd35e4e5fcce9a0c3454d0af14d6b35f2fdea"
   }
  }
 },
 "nbformat": 4,
 "nbformat_minor": 2
}
