{
 "cells": [
  {
   "cell_type": "code",
   "execution_count": 3,
   "metadata": {},
   "outputs": [],
   "source": [
    "import numpy as np\n",
    "import pandas as pd\n",
    "import seaborn as sns\n",
    "from matplotlib import pyplot as plt\n",
    "\n",
    "from sklearn.metrics import accuracy_score, f1_score\n",
    "\n",
    "import warnings\n",
    "warnings.filterwarnings(\"ignore\")"
   ]
  },
  {
   "cell_type": "markdown",
   "metadata": {},
   "source": [
    "Pre-processing, Data Cleaning, Feature Engineering"
   ]
  },
  {
   "cell_type": "code",
   "execution_count": null,
   "metadata": {},
   "outputs": [],
   "source": [
    "dataDf = pd.read_excel(\"data.xlsx\", dtype=object)\n",
    "columnNames = dataDf.columns\n",
    "\n",
    "dataDf.dropna(inplace=True)\n",
    "dataDf['GENDER'] = dataDf['GENDER'].replace([\"Male\", \"Female\"], [1,2])\n",
    "for i in range(4, 43-9):\n",
    "    dataDf = dataDf.astype({dataDf.columns[i]: str})\n",
    "\n",
    "for i in range(len(dataDf)):\n",
    "    row = dataDf.iloc[i]\n",
    "    for c in range(4, 18):\n",
    "        row[columnNames[c]] = row[columnNames[c]].strip(\".\")\n",
    "        row[columnNames[c]] = row[columnNames[c]].split('.')\n",
    "    dataDf.iloc[i] = row\n",
    "for i in range(len(dataDf)):\n",
    "    for c in range(4, 18):\n",
    "        dataDf = dataDf.explode(columnNames[c])\n",
    "\n",
    "dropList = ['Questioinnaire number ', 'AGE', 'HOME LANGUAGE']\n",
    "dataDf = dataDf.drop(columns=dropList)\n",
    "\n",
    "dataDf['PASSED'] = 0\n",
    "dataDf.loc[dataDf['FNL ILS'] >= 50, 'PASSED'] = 1\n",
    "\n",
    "columns = dataDf.columns"
   ]
  },
  {
   "cell_type": "code",
   "execution_count": null,
   "metadata": {},
   "outputs": [],
   "source": [
    "miscDf = dataDf[columns[:7]]\n",
    "miscDf['PASSED'] = dataDf['PASSED']\n",
    "miscDf = miscDf.drop_duplicates()\n",
    "#miscDf"
   ]
  },
  {
   "cell_type": "code",
   "execution_count": null,
   "metadata": {},
   "outputs": [],
   "source": [
    "dataDf = pd.read_excel(\"data.xlsx\", dtype=object)\n",
    "dataDf['PASSED'] = 0\n",
    "dataDf.loc[dataDf['FNL ILS'] >= 50, 'PASSED'] = 1; columns = dataDf.columns"
   ]
  },
  {
   "cell_type": "code",
   "execution_count": null,
   "metadata": {},
   "outputs": [],
   "source": [
    "schoolExpDf = dataDf[columns[13:18]]\n",
    "schoolExpDf['PASSED'] = dataDf['PASSED']\n",
    "#schoolExpDf = schoolExpDf.dropna()\n",
    "schoolExpCols = schoolExpDf.columns\n",
    "for i in range(len(schoolExpDf)):\n",
    "    for c in schoolExpCols:\n",
    "        schoolExpDf[c].iloc[i] = str(schoolExpDf[c].iloc[i]).strip(\".\")\n",
    "        schoolExpDf[c].iloc[i] = str(schoolExpDf[c].iloc[i]).split('.')\n",
    "for i in range(len(schoolExpDf)):\n",
    "    for c in schoolExpCols:\n",
    "        schoolExpDf = schoolExpDf.explode(c)\n",
    "#schoolExpDf"
   ]
  },
  {
   "cell_type": "code",
   "execution_count": null,
   "metadata": {},
   "outputs": [],
   "source": [
    "familyDf = dataDf[columns[30:34]]\n",
    "familyDf[columns[10]] = dataDf[columns[10]]\n",
    "familyDf[columns[11]] = dataDf[columns[11]]\n",
    "familyDf['PASSED'] = dataDf['PASSED']\n",
    "#familyDf = familyDf.dropna()\n",
    "familyCols = familyDf.columns\n",
    "for i in range(len(familyDf)):\n",
    "    for c in familyCols:\n",
    "        familyDf[c].iloc[i] = str(familyDf[c].iloc[i]).strip(\".\")\n",
    "        familyDf[c].iloc[i] = str(familyDf[c].iloc[i]).split('.')\n",
    "for i in range(len(familyDf)):\n",
    "    for c in familyCols:\n",
    "        familyDf = familyDf.explode(c)\n",
    "#familyDf"
   ]
  },
  {
   "cell_type": "code",
   "execution_count": null,
   "metadata": {},
   "outputs": [],
   "source": [
    "peerDf = dataDf[columns[22:26]]\n",
    "peerDf['PASSED'] = dataDf['PASSED']\n",
    "#peerDf = peerDf.dropna()\n",
    "peerCols = peerDf.columns\n",
    "for i in range(len(peerDf)):\n",
    "    for c in peerCols:\n",
    "        peerDf[c].iloc[i] = str(peerDf[c].iloc[i]).strip(\".\")\n",
    "        peerDf[c].iloc[i] = str(peerDf[c].iloc[i]).split('.')\n",
    "for i in range(len(peerDf)):\n",
    "    for c in peerCols:\n",
    "        peerDf = peerDf.explode(c)\n",
    "#peerDf"
   ]
  },
  {
   "cell_type": "code",
   "execution_count": null,
   "metadata": {},
   "outputs": [],
   "source": [
    "schoolBackDf = dataDf[columns[26:30]]\n",
    "schoolBackDf['PASSED'] = dataDf['PASSED']\n",
    "#schoolBackDf = schoolBackDf.dropna()\n",
    "schoolBackCols = schoolBackDf.columns\n",
    "for i in range(len(schoolBackDf)):\n",
    "    for c in schoolBackCols:\n",
    "        schoolBackDf[c].iloc[i] = str(schoolBackDf[c].iloc[i]).strip(\".\")\n",
    "        schoolBackDf[c].iloc[i] = str(schoolBackDf[c].iloc[i]).split('.')\n",
    "for i in range(len(schoolBackDf)):\n",
    "    for c in schoolBackCols:\n",
    "        schoolBackDf = schoolBackDf.explode(c)\n",
    "#schoolBackDf"
   ]
  },
  {
   "cell_type": "code",
   "execution_count": null,
   "metadata": {},
   "outputs": [],
   "source": [
    "selfDf = dataDf[columns[30:34]]\n",
    "selfDf['PASSED'] = dataDf['PASSED']\n",
    "#selfDf = selfDf.dropna()\n",
    "selfCols = selfDf.columns\n",
    "for i in range(len(selfDf)):\n",
    "    for c in selfCols:\n",
    "        selfDf[c].iloc[i] = str(selfDf[c].iloc[i]).strip(\".\")\n",
    "        selfDf[c].iloc[i] = str(selfDf[c].iloc[i]).split('.')\n",
    "for i in range(len(selfDf)):\n",
    "    for c in selfCols:\n",
    "        selfDf = selfDf.explode(c)\n",
    "#selfDf"
   ]
  },
  {
   "cell_type": "code",
   "execution_count": null,
   "metadata": {},
   "outputs": [],
   "source": [
    "def train_classifier(clf, xTrain, yTrain):\n",
    "    clf.fit(xTrain, yTrain)"
   ]
  },
  {
   "cell_type": "code",
   "execution_count": null,
   "metadata": {},
   "outputs": [],
   "source": [
    "def predict_labels(clf, features, target):\n",
    "    y_pred = clf.predict(features)\n",
    "    acc = sum(target == y_pred) / float(len(y_pred))\n",
    "    return f1_score(target, y_pred, average='micro'), acc"
   ]
  },
  {
   "cell_type": "code",
   "execution_count": null,
   "metadata": {},
   "outputs": [],
   "source": [
    "def model(clf, xTrain, yTrain, xTest, yTest):\n",
    "    train_classifier(clf, xTrain, yTrain)\n",
    "\n",
    "    f1, acc = predict_labels(clf, xTrain, yTrain)\n",
    "    print(\"Training Info:\")\n",
    "    print(\"-\" * 20)\n",
    "    print(\"Accuracy:{}\".format(acc))\n",
    "\n",
    "    f1, acc = predict_labels(clf, xTest, yTest)\n",
    "    print(\"Test Metrics:\")\n",
    "    print(\"-\" * 20)\n",
    "    print(\"Accuracy:{}\".format(acc))"
   ]
  },
  {
   "cell_type": "code",
   "execution_count": 1,
   "metadata": {},
   "outputs": [],
   "source": [
    "from sklearn.model_selection import train_test_split\n",
    "from sklearn.linear_model import PoissonRegressor\n",
    "from sklearn.ensemble import RandomForestClassifier"
   ]
  },
  {
   "cell_type": "code",
   "execution_count": null,
   "metadata": {},
   "outputs": [],
   "source": [
    "yPor = dataDf.iloc[:, -1]\n",
    "xTrainDf, xTestDf, yTrainDf, yTestDf = train_test_split(dataDf, yPor)\n",
    "rfClassifier = RandomForestClassifier()\n",
    "model(rfClassifier, xTrainDf, yTrainDf, xTestDf, yTestDf)\n",
    "psRegressor = PoissonRegressor()\n",
    "model(psRegressor, xTrainDf, yTrainDf, xTestDf, yTestDf)"
   ]
  },
  {
   "cell_type": "code",
   "execution_count": null,
   "metadata": {},
   "outputs": [],
   "source": []
  }
 ],
 "metadata": {
  "kernelspec": {
   "display_name": "Python 3.10.7 64-bit (microsoft store)",
   "language": "python",
   "name": "python3"
  },
  "language_info": {
   "codemirror_mode": {
    "name": "ipython",
    "version": 3
   },
   "file_extension": ".py",
   "mimetype": "text/x-python",
   "name": "python",
   "nbconvert_exporter": "python",
   "pygments_lexer": "ipython3",
   "version": "3.10.7"
  },
  "orig_nbformat": 4,
  "vscode": {
   "interpreter": {
    "hash": "f523ce2d606dc9235b909666820dd35e4e5fcce9a0c3454d0af14d6b35f2fdea"
   }
  }
 },
 "nbformat": 4,
 "nbformat_minor": 2
}
